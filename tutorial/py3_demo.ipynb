{
 "cells": [
  {
   "cell_type": "code",
   "execution_count": 1,
   "metadata": {
    "execution": {
     "iopub.execute_input": "2021-07-11T17:50:55.903876Z",
     "iopub.status.busy": "2021-07-11T17:50:55.903592Z",
     "iopub.status.idle": "2021-07-11T17:50:55.912365Z",
     "shell.execute_reply": "2021-07-11T17:50:55.911420Z",
     "shell.execute_reply.started": "2021-07-11T17:50:55.903803Z"
    },
    "tags": []
   },
   "outputs": [
    {
     "name": "stdout",
     "output_type": "stream",
     "text": [
      "hello world!\n"
     ]
    }
   ],
   "source": [
    "print(\"hello world!\")"
   ]
  },
  {
   "cell_type": "code",
   "execution_count": 2,
   "metadata": {
    "execution": {
     "iopub.execute_input": "2021-07-11T17:50:56.409354Z",
     "iopub.status.busy": "2021-07-11T17:50:56.409130Z",
     "iopub.status.idle": "2021-07-11T17:50:59.538139Z",
     "shell.execute_reply": "2021-07-11T17:50:59.537234Z",
     "shell.execute_reply.started": "2021-07-11T17:50:56.409328Z"
    },
    "tags": []
   },
   "outputs": [
    {
     "name": "stdout",
     "output_type": "stream",
     "text": [
      "hello!\n"
     ]
    }
   ],
   "source": [
    "!sleep 3\n",
    "print(\"hello!\")"
   ]
  },
  {
   "cell_type": "code",
   "execution_count": 3,
   "metadata": {
    "execution": {
     "iopub.execute_input": "2021-07-11T17:51:01.537424Z",
     "iopub.status.busy": "2021-07-11T17:51:01.537191Z",
     "iopub.status.idle": "2021-07-11T17:51:04.602413Z",
     "shell.execute_reply": "2021-07-11T17:51:04.601496Z",
     "shell.execute_reply.started": "2021-07-11T17:51:01.537396Z"
    },
    "tags": []
   },
   "outputs": [
    {
     "name": "stdout",
     "output_type": "stream",
     "text": [
      "^C\n",
      "hello world!\n"
     ]
    }
   ],
   "source": [
    "!sleep 66\n",
    "print(\"hello world!\")"
   ]
  },
  {
   "cell_type": "code",
   "execution_count": null,
   "metadata": {
    "execution": {
     "iopub.execute_input": "2021-07-11T17:51:08.736289Z",
     "iopub.status.busy": "2021-07-11T17:51:08.736031Z"
    },
    "tags": []
   },
   "outputs": [],
   "source": [
    "!sleep 4"
   ]
  },
  {
   "cell_type": "markdown",
   "metadata": {},
   "source": [
    "## Hello World"
   ]
  },
  {
   "cell_type": "code",
   "execution_count": null,
   "metadata": {
    "execution": {
     "iopub.execute_input": "2021-07-11T17:52:37.560728Z",
     "iopub.status.busy": "2021-07-11T17:52:37.560490Z"
    },
    "status": "error",
    "tags": []
   },
   "outputs": [],
   "source": [
    "!sleep 1\n",
    "raise Exception('hello world!')"
   ]
  },
  {
   "cell_type": "raw",
   "metadata": {
    "execution": {
     "iopub.execute_input": "2021-03-27T02:29:48.597351Z",
     "iopub.status.busy": "2021-03-27T02:29:48.597122Z",
     "iopub.status.idle": "2021-03-27T02:29:48.602494Z",
     "shell.execute_reply": "2021-03-27T02:29:48.600860Z",
     "shell.execute_reply.started": "2021-03-27T02:29:48.597324Z"
    }
   },
   "source": [
    "<h1>Hello World</h1>"
   ]
  },
  {
   "cell_type": "code",
   "execution_count": null,
   "metadata": {},
   "outputs": [],
   "source": []
  }
 ],
 "metadata": {
  "kernelspec": {
   "display_name": "Python 3",
   "language": "python",
   "name": "python3"
  },
  "language_info": {
   "codemirror_mode": {
    "name": "ipython",
    "version": 3
   },
   "file_extension": ".py",
   "mimetype": "text/x-python",
   "name": "python",
   "nbconvert_exporter": "python",
   "pygments_lexer": "ipython3",
   "version": "3.7.10"
  }
 },
 "nbformat": 4,
 "nbformat_minor": 4
}
